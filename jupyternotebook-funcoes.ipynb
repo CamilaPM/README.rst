{
 "cells": [
  {
   "cell_type": "code",
   "execution_count": 1,
   "id": "0e23cd8d",
   "metadata": {},
   "outputs": [],
   "source": [
    "import numpy as np\n",
    "\n",
    "def q (G): #onde G é o parâmetro de inclinação, às vezes adotado como 0.15\n",
    "\tq = 0.29 + 0.684 * G\n",
    "\treturn q\n",
    "\n",
    "##############################################################\n",
    "\n",
    "def pv (A, q): #onde A é o albedo bolométrico de Bond e q é uma integral de fase\n",
    "\tpv = A/q\n",
    "\treturn pv\n",
    "\n",
    "##############################################################\n",
    "\n",
    "def H (D, pv): #onde H é a magnitude absoluta, D é o diâmetro, dado em km e pv é o albedo geométrico\n",
    "\tx = (D*np.sqrt(pv))/1329\n",
    "\tH = -5*np.log(x)\n",
    "\treturn H"
   ]
  },
  {
   "cell_type": "code",
   "execution_count": null,
   "id": "e764ee56",
   "metadata": {},
   "outputs": [],
   "source": []
  }
 ],
 "metadata": {
  "kernelspec": {
   "display_name": "Python 3",
   "language": "python",
   "name": "python3"
  },
  "language_info": {
   "codemirror_mode": {
    "name": "ipython",
    "version": 3
   },
   "file_extension": ".py",
   "mimetype": "text/x-python",
   "name": "python",
   "nbconvert_exporter": "python",
   "pygments_lexer": "ipython3",
   "version": "3.6.9"
  }
 },
 "nbformat": 4,
 "nbformat_minor": 5
}
