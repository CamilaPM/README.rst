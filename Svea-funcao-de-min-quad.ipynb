{
 "cells": [
  {
   "cell_type": "code",
   "execution_count": 2,
   "id": "17500d7b",
   "metadata": {},
   "outputs": [
    {
     "name": "stderr",
     "output_type": "stream",
     "text": [
      "/home/camila/.local/lib/python3.6/site-packages/cana/thermal/models.py:32: RuntimeWarning: overflow encountered in exp\n",
      "  aux = np.exp(h_planck * c_light / k_bol / wavelength / temp)\n"
     ]
    },
    {
     "data": {
      "text/plain": [
       "[<matplotlib.lines.Line2D at 0x7fe343426358>]"
      ]
     },
     "execution_count": 2,
     "metadata": {},
     "output_type": "execute_result"
    },
    {
     "data": {
      "image/png": "[encoded data removed]",
      "text/plain": [
       "<Figure size 432x288 with 1 Axes>"
      ]
     },
     "metadata": {
      "needs_background": "light"
     },
     "output_type": "display_data"
    }
   ],
   "source": [
    "import cana\n",
    "import numpy as np\n",
    "from scipy import optimize\n",
    "import matplotlib.pyplot as plt\n",
    "from cana.datasets import getspectrum\n",
    "\n",
    "svea = cana.loadspec(\"svea-rebin.txt\")\n",
    "svea = svea.normalize(1.2)\n",
    "svea.plot()\n",
    "\n",
    "def func(albedo, wave = svea.w):\n",
    "    phi = 22.26 #angulo de fase\n",
    "    distancia_do_sol = 2.42\n",
    "    distancia_da_terra = 1.86\n",
    "    m = cana.NEATM(distancia_do_sol, distancia_da_terra, phi, eta = 0.9)\n",
    "    magnitude_absoluta = 9.66\n",
    "    diametro = (1329/np.sqrt(albedo))*(10**(-0.2*magnitude_absoluta))\n",
    "    thermal_spec = m.flux(albedo, diametro, wavelengths=wave)\n",
    "    thermal_spec = thermal_spec.normalize(1.2)\n",
    "    return thermal_spec.r\n",
    "\n",
    "r = func(0.05)\n",
    "plt.plot(svea.w, r)\n",
    "\n",
    "#alpha = optimize.curve_fit(func, xdata = thermal_spec.w, ydata = thermal_spec.r)[0]\n",
    "\n",
    "#thermal_spec.plot()"
   ]
  },
  {
   "cell_type": "code",
   "execution_count": null,
   "id": "f188bc72",
   "metadata": {},
   "outputs": [],
   "source": []
  }
 ],
 "metadata": {
  "kernelspec": {
   "display_name": "Python 3",
   "language": "python",
   "name": "python3"
  },
  "language_info": {
   "codemirror_mode": {
    "name": "ipython",
    "version": 3
   },
   "file_extension": ".py",
   "mimetype": "text/x-python",
   "name": "python",
   "nbconvert_exporter": "python",
   "pygments_lexer": "ipython3",
   "version": "3.6.9"
  }
 },
 "nbformat": 4,
 "nbformat_minor": 5
}
